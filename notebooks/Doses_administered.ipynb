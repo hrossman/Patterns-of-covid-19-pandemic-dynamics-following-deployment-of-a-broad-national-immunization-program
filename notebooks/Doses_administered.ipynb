{
 "cells": [
  {
   "cell_type": "code",
   "execution_count": null,
   "metadata": {},
   "outputs": [],
   "source": [
    "import pandas as pd\n",
    "import numpy as np\n",
    "import os\n",
    "import matplotlib.pyplot as plt\n",
    "%matplotlib inline\n",
    "%load_ext autoreload\n",
    "%autoreload 2\n",
    "\n",
    "pd.set_option('display.max_rows', 100)\n",
    "import sys\n",
    "sys.path.append('../../..')\n",
    "sys.path.append('../')\n",
    "sys.path.append('../../')\n",
    "\n",
    "from config import *\n",
    "from src.plot_utils import _prettify_ax, add_panel_text\n",
    "from src.vax_tables import get_national_vax_df"
   ]
  },
  {
   "cell_type": "code",
   "execution_count": null,
   "metadata": {},
   "outputs": [],
   "source": [
    "SZ=16\n",
    "title_fontsize=16\n",
    "every_x_axis_ticks=7\n",
    "\n",
    "vax_total_pop_file = True\n",
    "\n",
    "color_firstvax = 'cornflowerblue'\n",
    "color_secondvax = 'limegreen'\n",
    "color_recovered = 'silver'\n",
    "\n",
    "last_date = pd.to_datetime('2021-02-24')"
   ]
  },
  {
   "cell_type": "markdown",
   "metadata": {},
   "source": [
    "# Cumulative Doses"
   ]
  },
  {
   "cell_type": "code",
   "execution_count": null,
   "metadata": {},
   "outputs": [],
   "source": [
    "national_regroup_dict = {'0-19': '16+', '20-29': '16+', '30-39': '16+', '40-49': '16+', \n",
    "                         '50-59': '16+', '60-69': '16+', '70-79': '16+', '80-89': '16+', '90+': '16+'}\n",
    "\n",
    "national_vax_df = get_national_vax_df(minimal_age=16, regroup_dict=national_regroup_dict,\n",
    "                                      vax_total_pop_file=vax_total_pop_file)\n",
    "national_vax_df = national_vax_df.reset_index().set_index('date')\n",
    "national_vax_df = national_vax_df.loc[:last_date]\n",
    "national_vax_df.head()"
   ]
  },
  {
   "cell_type": "code",
   "execution_count": null,
   "metadata": {},
   "outputs": [],
   "source": [
    "# fig, axes = plt.subplots(2,2, figsize=(14, 10))\n",
    "fig, axes = plt.subplots(1,2, figsize=(16, 6))\n",
    "\n",
    "\n",
    "# ax = axes[0, 0]\n",
    "ax = axes[0]\n",
    "add_panel_text(ax,'a')\n",
    "\n",
    "tmp = national_vax_df.loc[national_vax_df.age_group == '16+', ['first_dose', 'second_dose']]\n",
    "ax.bar(tmp.index, tmp.sum(axis=1).values, color=color_secondvax, label='Second dose administered')\n",
    "ax.bar(tmp.index, tmp['first_dose'].values, color=color_firstvax, label='First dose administered')\n",
    "ax.set_title('National daily doses administered', fontsize=title_fontsize)\n",
    "ax.set_xlabel('Date', fontsize=16)\n",
    "ax.set_ylabel('Number of doses', fontsize=16)\n",
    "ax.set_ylim([0,300000])\n",
    "_prettify_ax(ax, tmp.index, loc='upper left')\n",
    "ax.tick_params(axis='both', which='major', labelsize=14)\n",
    "\n",
    "\n",
    "# ax = axes[0, 1]\n",
    "ax = axes[1]\n",
    "add_panel_text(ax,'b')\n",
    "\n",
    "tmp = national_vax_df.loc[national_vax_df.age_group == '16+', 'first_dose_perc']\n",
    "ax.stackplot(tmp.index, tmp.values, color=color_firstvax, labels=['Vaccinated 1st dose'])\n",
    "\n",
    "tmp = national_vax_df.loc[national_vax_df.age_group == '16+', 'second_dose_perc']\n",
    "ax.stackplot(tmp.index, tmp.values, color=color_secondvax, labels=['Vaccinated 2nd dose'])\n",
    "\n",
    "# tmp = national_vax_df.loc[national_vax_df.age_group == '16+', 'recovered_perc']\n",
    "# ax.stackplot(tmp.index, tmp.values, color=color_recovered, labels=['Recovered'])\n",
    "\n",
    "\n",
    "ax.set_title(f'National', fontsize=title_fontsize)\n",
    "ax.set_ylabel('Vaccinated\\nfrom eligible population [%]', fontsize=16)\n",
    "ax.set_xlabel('Date', fontsize=16)\n",
    "\n",
    "ax.set_ylim([0, 119])\n",
    "ax.tick_params(axis='both', which='major', labelsize=14)\n",
    "\n",
    "ax.axvline(x=pd.to_datetime('2020-12-20'), ls='--', color='k', lw=2)#, label='60+ vaccination')\n",
    "ax.text(x=pd.to_datetime('2020-12-21'), y=58, s='60+ and\\nhealthcare\\nworkers', fontsize=14)\n",
    "\n",
    "ax.axvline(x=pd.to_datetime('2021-01-12'), ls='--', color='r', lw=2)#, label='55+ vaccination')\n",
    "ax.text(x=pd.to_datetime('2021-01-07'), y=63, s='55+', fontsize=14, color='r')\n",
    "\n",
    "ax.axvline(x=pd.to_datetime('2021-01-19'), ls='--', color='g', lw=2)#, label='40+ vaccination')\n",
    "ax.text(x=pd.to_datetime('2021-01-14'), y=63, s='40+', fontsize=14, color='g')\n",
    "\n",
    "ax.axvline(x=pd.to_datetime('2021-01-21'), ls='--', color='b', lw=2)#, label='40+ vaccination')\n",
    "ax.text(x=pd.to_datetime('2021-01-22'), y=83, s='40+\\nand\\n16-18', fontsize=14, color='b')\n",
    "\n",
    "ax.axvline(x=pd.to_datetime('2021-01-28'), ls='--', color='purple', lw=2)#, label='40+ vaccination')\n",
    "ax.text(x=pd.to_datetime('2021-01-29'), y=83, s='35+\\nand\\n16-18', fontsize=14, color='purple')\n",
    "\n",
    "ax.axvline(x=pd.to_datetime('2021-02-04'), ls='--', color='gray', lw=2)#, label='40+ vaccination')\n",
    "ax.text(x=pd.to_datetime('2021-02-05'), y=90, s='16+', fontsize=14, color='gray')\n",
    "\n",
    "_prettify_ax(ax, tmp.index, loc='upper left')\n",
    "\n",
    "\n",
    "fig.tight_layout()"
   ]
  },
  {
   "cell_type": "markdown",
   "metadata": {},
   "source": [
    "# Doses per age group"
   ]
  },
  {
   "cell_type": "code",
   "execution_count": null,
   "metadata": {},
   "outputs": [],
   "source": [
    "national_regroup_dict = {'0-19': '0-19', '20-29': '20-29', '30-39': '30-39', '40-49': '40-49', \n",
    "                         '50-59': '50-59', '60-69': '60-69', '70-79': '70-79', '80-89': '80+', '90+': '80+'}\n",
    "\n",
    "national_vax_df = get_national_vax_df(minimal_age=0, regroup_dict=national_regroup_dict,\n",
    "                                      vax_total_pop_file=vax_total_pop_file)\n",
    "national_vax_df = national_vax_df.loc[:last_date]\n",
    "national_vax_df = national_vax_df.reset_index()"
   ]
  },
  {
   "cell_type": "code",
   "execution_count": null,
   "metadata": {},
   "outputs": [],
   "source": [
    "fig, axes = plt.subplots(4,2, figsize=(12, 20))\n",
    "\n",
    "for idx, ag in enumerate(national_vax_df.age_group.unique()):\n",
    "    ax = axes[idx // 2, idx % 2]\n",
    "    tmp = national_vax_df[national_vax_df['age_group'] == ag].groupby(\n",
    "        'date')[['first_dose', 'second_dose']].sum()\n",
    "    \n",
    "    ax.bar(tmp.index, tmp.sum(axis=1).values, color=color_secondvax, label='Second dose administered')\n",
    "    ax.bar(tmp.index, tmp['first_dose'].values, color=color_firstvax, label='First dose administered')\n",
    "    ax.set_title(f'Daily doses for age group {ag}', fontsize=title_fontsize)\n",
    "    ax.set_ylabel('Number of Doses', fontsize=16)\n",
    "    ax.set_xlabel('Date', fontsize=16)\n",
    "    ax.set_ylim([0, 60000])\n",
    "    _prettify_ax(ax, tmp.index, loc='upper left')\n",
    "        \n",
    "fig.tight_layout()"
   ]
  },
  {
   "cell_type": "markdown",
   "metadata": {},
   "source": [
    "# Vaccinated per age group"
   ]
  },
  {
   "cell_type": "code",
   "execution_count": null,
   "metadata": {},
   "outputs": [],
   "source": [
    "national_regroup_dict = {'0-19': '0-19', '20-29': '20-29', '30-39': '30-39', '40-49': '40-49', \n",
    "                         '50-59': '50-59', '60-69': '60-69', '70-79': '70-79', '80-89': '80+', '90+': '80+'}\n",
    "\n",
    "national_vax_df = get_national_vax_df(minimal_age=0, regroup_dict=national_regroup_dict,\n",
    "                                      vax_total_pop_file=vax_total_pop_file)\n",
    "national_vax_df = national_vax_df.reset_index().set_index('date')\n",
    "national_vax_df = national_vax_df.loc[:last_date]\n",
    "national_vax_df.head()"
   ]
  },
  {
   "cell_type": "code",
   "execution_count": null,
   "metadata": {},
   "outputs": [],
   "source": [
    "fig, axes = plt.subplots(4,2, figsize=(20, 28))\n",
    "\n",
    "for idx, ag in enumerate(national_vax_df.age_group.unique()):\n",
    "    ax = axes[idx // 2, idx % 2]\n",
    "    \n",
    "    tmp = national_vax_df.loc[national_vax_df.age_group == ag, 'first_dose_perc']\n",
    "    ax.stackplot(tmp.index, tmp.values, color=color_firstvax, labels=['Vaccinated 1st dose'])\n",
    "    \n",
    "    tmp = national_vax_df.loc[national_vax_df.age_group == ag, 'second_dose_perc']\n",
    "    ax.stackplot(tmp.index, tmp.values, color=color_secondvax, labels=['Vaccinated 2nd dose'])\n",
    "\n",
    "    ax.set_title(f'Age group {ag}', fontsize=24)\n",
    "    ax.set_ylabel('Vaccinated or recovered [%]', fontsize=22)\n",
    "    ax.set_xlabel('Date', fontsize=22)\n",
    "    ax.set_ylim([0, 100])\n",
    "    _prettify_ax(ax, tmp.index, loc='upper left')\n",
    "        \n",
    "    ax.tick_params(axis='both', which='major', labelsize=16)\n",
    "\n",
    "fig.tight_layout()"
   ]
  },
  {
   "cell_type": "code",
   "execution_count": null,
   "metadata": {},
   "outputs": [],
   "source": []
  }
 ],
 "metadata": {
  "kernelspec": {
   "display_name": "Python 3",
   "language": "python",
   "name": "python3"
  },
  "language_info": {
   "codemirror_mode": {
    "name": "ipython",
    "version": 3
   },
   "file_extension": ".py",
   "mimetype": "text/x-python",
   "name": "python",
   "nbconvert_exporter": "python",
   "pygments_lexer": "ipython3",
   "version": "3.7.6"
  }
 },
 "nbformat": 4,
 "nbformat_minor": 4
}
